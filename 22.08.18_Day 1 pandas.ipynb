{
 "cells": [
  {
   "cell_type": "code",
   "execution_count": 30,
   "id": "5d82aa42",
   "metadata": {},
   "outputs": [
    {
     "data": {
      "text/html": [
       "<div>\n",
       "<style scoped>\n",
       "    .dataframe tbody tr th:only-of-type {\n",
       "        vertical-align: middle;\n",
       "    }\n",
       "\n",
       "    .dataframe tbody tr th {\n",
       "        vertical-align: top;\n",
       "    }\n",
       "\n",
       "    .dataframe thead th {\n",
       "        text-align: right;\n",
       "    }\n",
       "</style>\n",
       "<table border=\"1\" class=\"dataframe\">\n",
       "  <thead>\n",
       "    <tr style=\"text-align: right;\">\n",
       "      <th></th>\n",
       "      <th>DLHRWAGE</th>\n",
       "      <th>DEDUC1</th>\n",
       "      <th>AGE</th>\n",
       "      <th>AGESQ</th>\n",
       "      <th>LHRWAGEH</th>\n",
       "      <th>WHITEH</th>\n",
       "      <th>MALEH</th>\n",
       "      <th>EDUCH</th>\n",
       "      <th>LHRWAGEL</th>\n",
       "      <th>WHITEL</th>\n",
       "      <th>MALEL</th>\n",
       "      <th>EDUCL</th>\n",
       "      <th>DEDUC2</th>\n",
       "      <th>DTEN</th>\n",
       "      <th>DMARRIED</th>\n",
       "      <th>DUNCOV</th>\n",
       "    </tr>\n",
       "  </thead>\n",
       "  <tbody>\n",
       "    <tr>\n",
       "      <th>0</th>\n",
       "      <td>0.259347</td>\n",
       "      <td>0</td>\n",
       "      <td>33.251198</td>\n",
       "      <td>1105.642156</td>\n",
       "      <td>2.420368</td>\n",
       "      <td>1</td>\n",
       "      <td>0</td>\n",
       "      <td>16</td>\n",
       "      <td>2.161022</td>\n",
       "      <td>1</td>\n",
       "      <td>0</td>\n",
       "      <td>16</td>\n",
       "      <td>0</td>\n",
       "      <td>1.333</td>\n",
       "      <td>0</td>\n",
       "      <td>0.0</td>\n",
       "    </tr>\n",
       "    <tr>\n",
       "      <th>1</th>\n",
       "      <td>NaN</td>\n",
       "      <td>-1</td>\n",
       "      <td>54.053388</td>\n",
       "      <td>2921.768764</td>\n",
       "      <td>NaN</td>\n",
       "      <td>1</td>\n",
       "      <td>0</td>\n",
       "      <td>9</td>\n",
       "      <td>2.060514</td>\n",
       "      <td>1</td>\n",
       "      <td>0</td>\n",
       "      <td>10</td>\n",
       "      <td>1</td>\n",
       "      <td>8.000</td>\n",
       "      <td>1</td>\n",
       "      <td>0.0</td>\n",
       "    </tr>\n",
       "    <tr>\n",
       "      <th>2</th>\n",
       "      <td>0.721318</td>\n",
       "      <td>7</td>\n",
       "      <td>43.570157</td>\n",
       "      <td>1898.358618</td>\n",
       "      <td>2.890372</td>\n",
       "      <td>1</td>\n",
       "      <td>0</td>\n",
       "      <td>19</td>\n",
       "      <td>2.169054</td>\n",
       "      <td>1</td>\n",
       "      <td>0</td>\n",
       "      <td>12</td>\n",
       "      <td>4</td>\n",
       "      <td>3.000</td>\n",
       "      <td>-1</td>\n",
       "      <td>0.0</td>\n",
       "    </tr>\n",
       "    <tr>\n",
       "      <th>3</th>\n",
       "      <td>0.011582</td>\n",
       "      <td>0</td>\n",
       "      <td>30.967830</td>\n",
       "      <td>959.006511</td>\n",
       "      <td>2.803360</td>\n",
       "      <td>1</td>\n",
       "      <td>1</td>\n",
       "      <td>12</td>\n",
       "      <td>2.791778</td>\n",
       "      <td>1</td>\n",
       "      <td>1</td>\n",
       "      <td>12</td>\n",
       "      <td>0</td>\n",
       "      <td>-2.000</td>\n",
       "      <td>0</td>\n",
       "      <td>1.0</td>\n",
       "    </tr>\n",
       "    <tr>\n",
       "      <th>4</th>\n",
       "      <td>-0.560985</td>\n",
       "      <td>0</td>\n",
       "      <td>34.633812</td>\n",
       "      <td>1199.500965</td>\n",
       "      <td>2.263366</td>\n",
       "      <td>1</td>\n",
       "      <td>1</td>\n",
       "      <td>14</td>\n",
       "      <td>2.824351</td>\n",
       "      <td>1</td>\n",
       "      <td>1</td>\n",
       "      <td>14</td>\n",
       "      <td>1</td>\n",
       "      <td>2.917</td>\n",
       "      <td>0</td>\n",
       "      <td>-1.0</td>\n",
       "    </tr>\n",
       "  </tbody>\n",
       "</table>\n",
       "</div>"
      ],
      "text/plain": [
       "   DLHRWAGE  DEDUC1        AGE        AGESQ  LHRWAGEH  WHITEH  MALEH  EDUCH  \\\n",
       "0  0.259347       0  33.251198  1105.642156  2.420368       1      0     16   \n",
       "1       NaN      -1  54.053388  2921.768764       NaN       1      0      9   \n",
       "2  0.721318       7  43.570157  1898.358618  2.890372       1      0     19   \n",
       "3  0.011582       0  30.967830   959.006511  2.803360       1      1     12   \n",
       "4 -0.560985       0  34.633812  1199.500965  2.263366       1      1     14   \n",
       "\n",
       "   LHRWAGEL  WHITEL  MALEL  EDUCL  DEDUC2   DTEN  DMARRIED  DUNCOV  \n",
       "0  2.161022       1      0     16       0  1.333         0     0.0  \n",
       "1  2.060514       1      0     10       1  8.000         1     0.0  \n",
       "2  2.169054       1      0     12       4  3.000        -1     0.0  \n",
       "3  2.791778       1      1     12       0 -2.000         0     1.0  \n",
       "4  2.824351       1      1     14       1  2.917         0    -1.0  "
      ]
     },
     "execution_count": 30,
     "metadata": {},
     "output_type": "execute_result"
    }
   ],
   "source": [
    "import pandas as pd #pd=shortcut\n",
    "\n",
    "FNAME = \"http://www.stat.ucla.edu/~rgould/datasets/twins.dat\" #assigned link to object FNAME\n",
    "\n",
    "# ? for missing value with na_values\n",
    "df= pd.read_csv(FNAME, sep='\\t', na_values=\"?\") \n",
    "df.head() #look at first rows\n",
    "\n",
    "#CTRL + enter =execute one cell\n",
    "#SHIFT + enter = execute and add a new cell "
   ]
  },
  {
   "cell_type": "code",
   "execution_count": 11,
   "id": "e7bff540",
   "metadata": {},
   "outputs": [
    {
     "data": {
      "text/plain": [
       "(183, 16)"
      ]
     },
     "execution_count": 11,
     "metadata": {},
     "output_type": "execute_result"
    }
   ],
   "source": [
    "df.shape #attribute because no parenthesis"
   ]
  },
  {
   "cell_type": "code",
   "execution_count": 12,
   "id": "23c2d498",
   "metadata": {},
   "outputs": [
    {
     "data": {
      "text/html": [
       "<div>\n",
       "<style scoped>\n",
       "    .dataframe tbody tr th:only-of-type {\n",
       "        vertical-align: middle;\n",
       "    }\n",
       "\n",
       "    .dataframe tbody tr th {\n",
       "        vertical-align: top;\n",
       "    }\n",
       "\n",
       "    .dataframe thead th {\n",
       "        text-align: right;\n",
       "    }\n",
       "</style>\n",
       "<table border=\"1\" class=\"dataframe\">\n",
       "  <thead>\n",
       "    <tr style=\"text-align: right;\">\n",
       "      <th></th>\n",
       "      <th>DEDUC1</th>\n",
       "      <th>AGE</th>\n",
       "      <th>AGESQ</th>\n",
       "      <th>WHITEH</th>\n",
       "      <th>MALEH</th>\n",
       "      <th>EDUCH</th>\n",
       "      <th>WHITEL</th>\n",
       "      <th>MALEL</th>\n",
       "      <th>EDUCL</th>\n",
       "      <th>DEDUC2</th>\n",
       "      <th>DMARRIED</th>\n",
       "      <th>DUNCOV</th>\n",
       "    </tr>\n",
       "  </thead>\n",
       "  <tbody>\n",
       "    <tr>\n",
       "      <th>count</th>\n",
       "      <td>183.000000</td>\n",
       "      <td>183.000000</td>\n",
       "      <td>183.000000</td>\n",
       "      <td>183.000000</td>\n",
       "      <td>183.000000</td>\n",
       "      <td>183.000000</td>\n",
       "      <td>183.000000</td>\n",
       "      <td>183.000000</td>\n",
       "      <td>183.000000</td>\n",
       "      <td>183.000000</td>\n",
       "      <td>183.000000</td>\n",
       "      <td>182.000000</td>\n",
       "    </tr>\n",
       "    <tr>\n",
       "      <th>mean</th>\n",
       "      <td>-0.010929</td>\n",
       "      <td>38.694015</td>\n",
       "      <td>1666.242009</td>\n",
       "      <td>0.934426</td>\n",
       "      <td>0.459016</td>\n",
       "      <td>13.950820</td>\n",
       "      <td>0.939891</td>\n",
       "      <td>0.530055</td>\n",
       "      <td>13.890710</td>\n",
       "      <td>-0.021858</td>\n",
       "      <td>-0.010929</td>\n",
       "      <td>0.021978</td>\n",
       "    </tr>\n",
       "    <tr>\n",
       "      <th>std</th>\n",
       "      <td>1.881048</td>\n",
       "      <td>13.036251</td>\n",
       "      <td>1181.710178</td>\n",
       "      <td>0.248215</td>\n",
       "      <td>0.499685</td>\n",
       "      <td>2.332943</td>\n",
       "      <td>0.238341</td>\n",
       "      <td>1.118242</td>\n",
       "      <td>2.403996</td>\n",
       "      <td>1.886785</td>\n",
       "      <td>0.502620</td>\n",
       "      <td>0.492553</td>\n",
       "    </tr>\n",
       "    <tr>\n",
       "      <th>min</th>\n",
       "      <td>-7.000000</td>\n",
       "      <td>18.781656</td>\n",
       "      <td>352.750617</td>\n",
       "      <td>0.000000</td>\n",
       "      <td>0.000000</td>\n",
       "      <td>8.000000</td>\n",
       "      <td>0.000000</td>\n",
       "      <td>0.000000</td>\n",
       "      <td>1.000000</td>\n",
       "      <td>-6.000000</td>\n",
       "      <td>-1.000000</td>\n",
       "      <td>-1.000000</td>\n",
       "    </tr>\n",
       "    <tr>\n",
       "      <th>25%</th>\n",
       "      <td>-1.000000</td>\n",
       "      <td>28.977413</td>\n",
       "      <td>839.696325</td>\n",
       "      <td>1.000000</td>\n",
       "      <td>0.000000</td>\n",
       "      <td>12.000000</td>\n",
       "      <td>1.000000</td>\n",
       "      <td>0.000000</td>\n",
       "      <td>12.000000</td>\n",
       "      <td>-1.000000</td>\n",
       "      <td>0.000000</td>\n",
       "      <td>0.000000</td>\n",
       "    </tr>\n",
       "    <tr>\n",
       "      <th>50%</th>\n",
       "      <td>0.000000</td>\n",
       "      <td>36.041068</td>\n",
       "      <td>1298.958565</td>\n",
       "      <td>1.000000</td>\n",
       "      <td>0.000000</td>\n",
       "      <td>13.000000</td>\n",
       "      <td>1.000000</td>\n",
       "      <td>0.000000</td>\n",
       "      <td>14.000000</td>\n",
       "      <td>0.000000</td>\n",
       "      <td>0.000000</td>\n",
       "      <td>0.000000</td>\n",
       "    </tr>\n",
       "    <tr>\n",
       "      <th>75%</th>\n",
       "      <td>0.000000</td>\n",
       "      <td>44.777550</td>\n",
       "      <td>2005.034018</td>\n",
       "      <td>1.000000</td>\n",
       "      <td>1.000000</td>\n",
       "      <td>16.000000</td>\n",
       "      <td>1.000000</td>\n",
       "      <td>1.000000</td>\n",
       "      <td>16.000000</td>\n",
       "      <td>0.000000</td>\n",
       "      <td>0.000000</td>\n",
       "      <td>0.000000</td>\n",
       "    </tr>\n",
       "    <tr>\n",
       "      <th>max</th>\n",
       "      <td>7.000000</td>\n",
       "      <td>79.123888</td>\n",
       "      <td>6260.589612</td>\n",
       "      <td>1.000000</td>\n",
       "      <td>1.000000</td>\n",
       "      <td>20.000000</td>\n",
       "      <td>1.000000</td>\n",
       "      <td>14.000000</td>\n",
       "      <td>20.000000</td>\n",
       "      <td>7.000000</td>\n",
       "      <td>1.000000</td>\n",
       "      <td>1.000000</td>\n",
       "    </tr>\n",
       "  </tbody>\n",
       "</table>\n",
       "</div>"
      ],
      "text/plain": [
       "           DEDUC1         AGE        AGESQ      WHITEH       MALEH  \\\n",
       "count  183.000000  183.000000   183.000000  183.000000  183.000000   \n",
       "mean    -0.010929   38.694015  1666.242009    0.934426    0.459016   \n",
       "std      1.881048   13.036251  1181.710178    0.248215    0.499685   \n",
       "min     -7.000000   18.781656   352.750617    0.000000    0.000000   \n",
       "25%     -1.000000   28.977413   839.696325    1.000000    0.000000   \n",
       "50%      0.000000   36.041068  1298.958565    1.000000    0.000000   \n",
       "75%      0.000000   44.777550  2005.034018    1.000000    1.000000   \n",
       "max      7.000000   79.123888  6260.589612    1.000000    1.000000   \n",
       "\n",
       "            EDUCH      WHITEL       MALEL       EDUCL      DEDUC2    DMARRIED  \\\n",
       "count  183.000000  183.000000  183.000000  183.000000  183.000000  183.000000   \n",
       "mean    13.950820    0.939891    0.530055   13.890710   -0.021858   -0.010929   \n",
       "std      2.332943    0.238341    1.118242    2.403996    1.886785    0.502620   \n",
       "min      8.000000    0.000000    0.000000    1.000000   -6.000000   -1.000000   \n",
       "25%     12.000000    1.000000    0.000000   12.000000   -1.000000    0.000000   \n",
       "50%     13.000000    1.000000    0.000000   14.000000    0.000000    0.000000   \n",
       "75%     16.000000    1.000000    1.000000   16.000000    0.000000    0.000000   \n",
       "max     20.000000    1.000000   14.000000   20.000000    7.000000    1.000000   \n",
       "\n",
       "           DUNCOV  \n",
       "count  182.000000  \n",
       "mean     0.021978  \n",
       "std      0.492553  \n",
       "min     -1.000000  \n",
       "25%      0.000000  \n",
       "50%      0.000000  \n",
       "75%      0.000000  \n",
       "max      1.000000  "
      ]
     },
     "execution_count": 12,
     "metadata": {},
     "output_type": "execute_result"
    }
   ],
   "source": [
    "df.describe()"
   ]
  },
  {
   "cell_type": "code",
   "execution_count": null,
   "id": "ca61ab3a",
   "metadata": {},
   "outputs": [],
   "source": [
    "#Changing dtypes"
   ]
  },
  {
   "cell_type": "code",
   "execution_count": 14,
   "id": "5cd5a7c4",
   "metadata": {},
   "outputs": [
    {
     "data": {
      "text/plain": [
       "DLHRWAGE     object\n",
       "DEDUC1        int64\n",
       "AGE         float64\n",
       "AGESQ       float64\n",
       "LHRWAGEH     object\n",
       "WHITEH        int64\n",
       "MALEH         int64\n",
       "EDUCH         int64\n",
       "LHRWAGEL     object\n",
       "WHITEL        int64\n",
       "MALEL         int64\n",
       "EDUCL         int64\n",
       "DEDUC2        int64\n",
       "DTEN         object\n",
       "DMARRIED      int64\n",
       "DUNCOV      float64\n",
       "dtype: object"
      ]
     },
     "execution_count": 14,
     "metadata": {},
     "output_type": "execute_result"
    }
   ],
   "source": [
    "df.dtypes #data types"
   ]
  },
  {
   "cell_type": "code",
   "execution_count": 20,
   "id": "834cd70d",
   "metadata": {},
   "outputs": [],
   "source": [
    "df[\"WHITEH\"] = df[\"WHITEH\"].astype(bool) #option 1"
   ]
  },
  {
   "cell_type": "code",
   "execution_count": 21,
   "id": "86464bee",
   "metadata": {},
   "outputs": [
    {
     "data": {
      "text/plain": [
       "DLHRWAGE     object\n",
       "DEDUC1        int64\n",
       "AGE         float64\n",
       "AGESQ       float64\n",
       "LHRWAGEH     object\n",
       "WHITEH         bool\n",
       "MALEH         int64\n",
       "EDUCH         int64\n",
       "LHRWAGEL     object\n",
       "WHITEL        int64\n",
       "MALEL         int64\n",
       "EDUCL         int64\n",
       "DEDUC2        int64\n",
       "DTEN         object\n",
       "DMARRIED      int64\n",
       "DUNCOV      float64\n",
       "dtype: object"
      ]
     },
     "execution_count": 21,
     "metadata": {},
     "output_type": "execute_result"
    }
   ],
   "source": [
    "df.dtypes"
   ]
  },
  {
   "cell_type": "code",
   "execution_count": 28,
   "id": "64029603",
   "metadata": {},
   "outputs": [
    {
     "data": {
      "text/plain": [
       "DLHRWAGE     object\n",
       "DEDUC1        int64\n",
       "AGE         float64\n",
       "AGESQ       float64\n",
       "LHRWAGEH     object\n",
       "WHITEH         bool\n",
       "MALEH         int64\n",
       "EDUCH         int64\n",
       "LHRWAGEL     object\n",
       "WHITEL        int64\n",
       "MALEL         int64\n",
       "EDUCL         int64\n",
       "DEDUC2        int64\n",
       "DTEN         object\n",
       "DMARRIED      int64\n",
       "DUNCOV      float64\n",
       "dtype: object"
      ]
     },
     "execution_count": 28,
     "metadata": {},
     "output_type": "execute_result"
    }
   ],
   "source": [
    "# df[\"LHRWAGEH\"] = df[\"LHRWAGEH\"].astype(float) #option 2\n",
    "pd.to_numeric(df[\"LHRWAGEH\"], errors=\"coerce\") #option 3, state the error to coerce ->NaN (Not a number)\n",
    "df.dtypes"
   ]
  },
  {
   "cell_type": "code",
   "execution_count": 34,
   "id": "31739e65",
   "metadata": {},
   "outputs": [
    {
     "name": "stdout",
     "output_type": "stream",
     "text": [
      "<class 'pandas.core.frame.DataFrame'>\n",
      "RangeIndex: 183 entries, 0 to 182\n",
      "Data columns (total 16 columns):\n",
      " #   Column    Non-Null Count  Dtype  \n",
      "---  ------    --------------  -----  \n",
      " 0   DLHRWAGE  149 non-null    float64\n",
      " 1   DEDUC1    183 non-null    int64  \n",
      " 2   AGE       183 non-null    float64\n",
      " 3   AGESQ     183 non-null    float64\n",
      " 4   LHRWAGEH  161 non-null    float64\n",
      " 5   WHITEH    183 non-null    int64  \n",
      " 6   MALEH     183 non-null    int64  \n",
      " 7   EDUCH     183 non-null    int64  \n",
      " 8   LHRWAGEL  162 non-null    float64\n",
      " 9   WHITEL    183 non-null    int64  \n",
      " 10  MALEL     183 non-null    int64  \n",
      " 11  EDUCL     183 non-null    int64  \n",
      " 12  DEDUC2    183 non-null    int64  \n",
      " 13  DTEN      179 non-null    float64\n",
      " 14  DMARRIED  183 non-null    int64  \n",
      " 15  DUNCOV    182 non-null    float64\n",
      "dtypes: float64(7), int64(9)\n",
      "memory usage: 23.0 KB\n"
     ]
    }
   ],
   "source": [
    "#We can give a dictionary of columns to interpret as something\n",
    "# Its possible to look at memory usage, and changeing to boolean could save space, for example\n",
    "df.info(memory_usage=True) #to know ehich memory is consuming"
   ]
  },
  {
   "cell_type": "code",
   "execution_count": 36,
   "id": "7a00b447",
   "metadata": {},
   "outputs": [
    {
     "data": {
      "text/plain": [
       "DLHRWAGE       0.259347\n",
       "DEDUC1         0.000000\n",
       "AGE           33.251198\n",
       "AGESQ       1105.642156\n",
       "LHRWAGEH       2.420368\n",
       "WHITEH         1.000000\n",
       "MALEH          0.000000\n",
       "EDUCH         16.000000\n",
       "LHRWAGEL       2.161022\n",
       "WHITEL         1.000000\n",
       "MALEL          0.000000\n",
       "EDUCL         16.000000\n",
       "DEDUC2         0.000000\n",
       "DTEN           1.333000\n",
       "DMARRIED       0.000000\n",
       "DUNCOV         0.000000\n",
       "Name: 0, dtype: float64"
      ]
     },
     "execution_count": 36,
     "metadata": {},
     "output_type": "execute_result"
    }
   ],
   "source": [
    "##Slicing and Indexing\n",
    "df.iloc[0] # First row"
   ]
  },
  {
   "cell_type": "code",
   "execution_count": 38,
   "id": "89d8b1d2",
   "metadata": {},
   "outputs": [
    {
     "data": {
      "text/plain": [
       "DLHRWAGE       0.259347\n",
       "DEDUC1         0.000000\n",
       "AGE           33.251198\n",
       "AGESQ       1105.642156\n",
       "LHRWAGEH       2.420368\n",
       "WHITEH         1.000000\n",
       "MALEH          0.000000\n",
       "EDUCH         16.000000\n",
       "LHRWAGEL       2.161022\n",
       "WHITEL         1.000000\n",
       "MALEL          0.000000\n",
       "EDUCL         16.000000\n",
       "DEDUC2         0.000000\n",
       "DTEN           1.333000\n",
       "DMARRIED       0.000000\n",
       "DUNCOV         0.000000\n",
       "Name: 0, dtype: float64"
      ]
     },
     "execution_count": 38,
     "metadata": {},
     "output_type": "execute_result"
    }
   ],
   "source": [
    "#using the name of the row (E.g. companies)\n",
    "df.loc[0] #no i here"
   ]
  },
  {
   "cell_type": "code",
   "execution_count": 40,
   "id": "02d37bf5",
   "metadata": {},
   "outputs": [
    {
     "data": {
      "text/html": [
       "<div>\n",
       "<style scoped>\n",
       "    .dataframe tbody tr th:only-of-type {\n",
       "        vertical-align: middle;\n",
       "    }\n",
       "\n",
       "    .dataframe tbody tr th {\n",
       "        vertical-align: top;\n",
       "    }\n",
       "\n",
       "    .dataframe thead th {\n",
       "        text-align: right;\n",
       "    }\n",
       "</style>\n",
       "<table border=\"1\" class=\"dataframe\">\n",
       "  <thead>\n",
       "    <tr style=\"text-align: right;\">\n",
       "      <th></th>\n",
       "      <th>DLHRWAGE</th>\n",
       "      <th>DEDUC1</th>\n",
       "      <th>AGE</th>\n",
       "      <th>AGESQ</th>\n",
       "      <th>LHRWAGEH</th>\n",
       "      <th>WHITEH</th>\n",
       "      <th>MALEH</th>\n",
       "      <th>EDUCH</th>\n",
       "      <th>LHRWAGEL</th>\n",
       "      <th>WHITEL</th>\n",
       "      <th>MALEL</th>\n",
       "      <th>EDUCL</th>\n",
       "      <th>DEDUC2</th>\n",
       "      <th>DTEN</th>\n",
       "      <th>DMARRIED</th>\n",
       "      <th>DUNCOV</th>\n",
       "    </tr>\n",
       "  </thead>\n",
       "  <tbody>\n",
       "    <tr>\n",
       "      <th>9</th>\n",
       "      <td>-0.470004</td>\n",
       "      <td>0</td>\n",
       "      <td>47.605749</td>\n",
       "      <td>2266.307384</td>\n",
       "      <td>1.832581</td>\n",
       "      <td>1</td>\n",
       "      <td>0</td>\n",
       "      <td>12</td>\n",
       "      <td>2.302585</td>\n",
       "      <td>1</td>\n",
       "      <td>0</td>\n",
       "      <td>12</td>\n",
       "      <td>0</td>\n",
       "      <td>-5.0</td>\n",
       "      <td>0</td>\n",
       "      <td>0.0</td>\n",
       "    </tr>\n",
       "    <tr>\n",
       "      <th>10</th>\n",
       "      <td>0.051751</td>\n",
       "      <td>-1</td>\n",
       "      <td>51.901437</td>\n",
       "      <td>2693.759201</td>\n",
       "      <td>2.847812</td>\n",
       "      <td>1</td>\n",
       "      <td>1</td>\n",
       "      <td>12</td>\n",
       "      <td>2.796061</td>\n",
       "      <td>1</td>\n",
       "      <td>1</td>\n",
       "      <td>13</td>\n",
       "      <td>-2</td>\n",
       "      <td>9.0</td>\n",
       "      <td>0</td>\n",
       "      <td>0.0</td>\n",
       "    </tr>\n",
       "  </tbody>\n",
       "</table>\n",
       "</div>"
      ],
      "text/plain": [
       "    DLHRWAGE  DEDUC1        AGE        AGESQ  LHRWAGEH  WHITEH  MALEH  EDUCH  \\\n",
       "9  -0.470004       0  47.605749  2266.307384  1.832581       1      0     12   \n",
       "10  0.051751      -1  51.901437  2693.759201  2.847812       1      1     12   \n",
       "\n",
       "    LHRWAGEL  WHITEL  MALEL  EDUCL  DEDUC2  DTEN  DMARRIED  DUNCOV  \n",
       "9   2.302585       1      0     12       0  -5.0         0     0.0  \n",
       "10  2.796061       1      1     13      -2   9.0         0     0.0  "
      ]
     },
     "execution_count": 40,
     "metadata": {},
     "output_type": "execute_result"
    }
   ],
   "source": [
    "#Access a range\n",
    "df.iloc[9:11]"
   ]
  },
  {
   "cell_type": "code",
   "execution_count": 43,
   "id": "e8884449",
   "metadata": {},
   "outputs": [
    {
     "data": {
      "text/plain": [
       "0      33.251198\n",
       "1      54.053388\n",
       "2      43.570157\n",
       "3      30.967830\n",
       "4      34.633812\n",
       "         ...    \n",
       "178    45.555099\n",
       "179    26.376454\n",
       "180    40.312115\n",
       "181    28.413415\n",
       "182    28.413415\n",
       "Name: AGE, Length: 183, dtype: float64"
      ]
     },
     "execution_count": 43,
     "metadata": {},
     "output_type": "execute_result"
    }
   ],
   "source": [
    "#Same for columns\n",
    "df[\"AGE\"]"
   ]
  },
  {
   "cell_type": "code",
   "execution_count": 45,
   "id": "72eae62b",
   "metadata": {},
   "outputs": [
    {
     "data": {
      "text/plain": [
       "9     47.605749\n",
       "10    51.901437\n",
       "Name: AGE, dtype: float64"
      ]
     },
     "execution_count": 45,
     "metadata": {},
     "output_type": "execute_result"
    }
   ],
   "source": [
    "#Combine: Range and number of column\n",
    "df.iloc[9:11,2]"
   ]
  },
  {
   "cell_type": "code",
   "execution_count": 46,
   "id": "85e1cf4a",
   "metadata": {},
   "outputs": [],
   "source": [
    "df.loc[0,\"AGE\"]=20"
   ]
  },
  {
   "cell_type": "code",
   "execution_count": 48,
   "id": "4b9b0fb7",
   "metadata": {},
   "outputs": [
    {
     "data": {
      "text/plain": [
       "20.0"
      ]
     },
     "execution_count": 48,
     "metadata": {},
     "output_type": "execute_result"
    }
   ],
   "source": [
    "df.loc[0,\"AGE\"]"
   ]
  },
  {
   "cell_type": "code",
   "execution_count": 58,
   "id": "60169e49",
   "metadata": {},
   "outputs": [
    {
     "data": {
      "text/plain": [
       "41.362354552250004"
      ]
     },
     "execution_count": 58,
     "metadata": {},
     "output_type": "execute_result"
    }
   ],
   "source": [
    "#Mask: only positive values when true\n",
    "#intereste in each observation when it is white. Using == for comparisson\n",
    "mask = (df[\"WHITEH\"] <=60) & (df[\"MALEL\"] == 1) &(df[\"EDUCH\"].isin((12,14))) ## for unequal =!, >= at least\n",
    "df[mask]\n",
    "#[\"AGE\"].mean()\n",
    "#all observations where they are at most 60,twin is male, educh between 12,14, only whowing age and average"
   ]
  },
  {
   "cell_type": "code",
   "execution_count": 62,
   "id": "7ed4ed8e",
   "metadata": {},
   "outputs": [
    {
     "data": {
      "text/plain": [
       "(11, 16)"
      ]
     },
     "execution_count": 62,
     "metadata": {},
     "output_type": "execute_result"
    }
   ],
   "source": [
    "#How many observations have WHITEL equal to 0?\n",
    "mask2= (df[\"WHITEL\"])==0\n",
    "df[mask2].shape"
   ]
  },
  {
   "cell_type": "code",
   "execution_count": 72,
   "id": "29e3a20c",
   "metadata": {},
   "outputs": [
    {
     "ename": "SyntaxError",
     "evalue": "invalid syntax. Maybe you meant '==' or ':=' instead of '='? (1358310275.py, line 1)",
     "output_type": "error",
     "traceback": [
      "\u001b[1;36m  Input \u001b[1;32mIn [72]\u001b[1;36m\u001b[0m\n\u001b[1;33m    mask3= (df[\"WHITEL\"]) ==1 & (df[\"DEDUC1\"])=!0\u001b[0m\n\u001b[1;37m    ^\u001b[0m\n\u001b[1;31mSyntaxError\u001b[0m\u001b[1;31m:\u001b[0m invalid syntax. Maybe you meant '==' or ':=' instead of '='?\n"
     ]
    }
   ],
   "source": [
    "mask3= (df[\"WHITEL\"]) ==1 & (df[\"DEDUC1\"])=!0 \n",
    "df[mask3].shape"
   ]
  },
  {
   "cell_type": "code",
   "execution_count": 73,
   "id": "c3242fef",
   "metadata": {},
   "outputs": [
    {
     "ename": "SyntaxError",
     "evalue": "incomplete input (1974052710.py, line 2)",
     "output_type": "error",
     "traceback": [
      "\u001b[1;36m  Input \u001b[1;32mIn [73]\u001b[1;36m\u001b[0m\n\u001b[1;33m    sum(df[\"WHITEH\"] != df[\"WHITEL\"]\u001b[0m\n\u001b[1;37m                                    ^\u001b[0m\n\u001b[1;31mSyntaxError\u001b[0m\u001b[1;31m:\u001b[0m incomplete input\n"
     ]
    }
   ],
   "source": [
    "#df[df[\"WHITEH\"]!= df[\"WHITEL\"]\n",
    "sum(df[\"WHITEH\"] != df[\"WHITEL\"]"
   ]
  },
  {
   "cell_type": "code",
   "execution_count": 75,
   "id": "6ab1b350",
   "metadata": {},
   "outputs": [
    {
     "name": "stdout",
     "output_type": "stream",
     "text": [
      "Help on function to_numeric in module pandas.core.tools.numeric:\n",
      "\n",
      "to_numeric(arg, errors='raise', downcast=None)\n",
      "    Convert argument to a numeric type.\n",
      "    \n",
      "    The default return dtype is `float64` or `int64`\n",
      "    depending on the data supplied. Use the `downcast` parameter\n",
      "    to obtain other dtypes.\n",
      "    \n",
      "    Please note that precision loss may occur if really large numbers\n",
      "    are passed in. Due to the internal limitations of `ndarray`, if\n",
      "    numbers smaller than `-9223372036854775808` (np.iinfo(np.int64).min)\n",
      "    or larger than `18446744073709551615` (np.iinfo(np.uint64).max) are\n",
      "    passed in, it is very likely they will be converted to float so that\n",
      "    they can stored in an `ndarray`. These warnings apply similarly to\n",
      "    `Series` since it internally leverages `ndarray`.\n",
      "    \n",
      "    Parameters\n",
      "    ----------\n",
      "    arg : scalar, list, tuple, 1-d array, or Series\n",
      "        Argument to be converted.\n",
      "    errors : {'ignore', 'raise', 'coerce'}, default 'raise'\n",
      "        - If 'raise', then invalid parsing will raise an exception.\n",
      "        - If 'coerce', then invalid parsing will be set as NaN.\n",
      "        - If 'ignore', then invalid parsing will return the input.\n",
      "    downcast : str, default None\n",
      "        Can be 'integer', 'signed', 'unsigned', or 'float'.\n",
      "        If not None, and if the data has been successfully cast to a\n",
      "        numerical dtype (or if the data was numeric to begin with),\n",
      "        downcast that resulting data to the smallest numerical dtype\n",
      "        possible according to the following rules:\n",
      "    \n",
      "        - 'integer' or 'signed': smallest signed int dtype (min.: np.int8)\n",
      "        - 'unsigned': smallest unsigned int dtype (min.: np.uint8)\n",
      "        - 'float': smallest float dtype (min.: np.float32)\n",
      "    \n",
      "        As this behaviour is separate from the core conversion to\n",
      "        numeric values, any errors raised during the downcasting\n",
      "        will be surfaced regardless of the value of the 'errors' input.\n",
      "    \n",
      "        In addition, downcasting will only occur if the size\n",
      "        of the resulting data's dtype is strictly larger than\n",
      "        the dtype it is to be cast to, so if none of the dtypes\n",
      "        checked satisfy that specification, no downcasting will be\n",
      "        performed on the data.\n",
      "    \n",
      "    Returns\n",
      "    -------\n",
      "    ret\n",
      "        Numeric if parsing succeeded.\n",
      "        Return type depends on input.  Series if Series, otherwise ndarray.\n",
      "    \n",
      "    See Also\n",
      "    --------\n",
      "    DataFrame.astype : Cast argument to a specified dtype.\n",
      "    to_datetime : Convert argument to datetime.\n",
      "    to_timedelta : Convert argument to timedelta.\n",
      "    numpy.ndarray.astype : Cast a numpy array to a specified type.\n",
      "    DataFrame.convert_dtypes : Convert dtypes.\n",
      "    \n",
      "    Examples\n",
      "    --------\n",
      "    Take separate series and convert to numeric, coercing when told to\n",
      "    \n",
      "    >>> s = pd.Series(['1.0', '2', -3])\n",
      "    >>> pd.to_numeric(s)\n",
      "    0    1.0\n",
      "    1    2.0\n",
      "    2   -3.0\n",
      "    dtype: float64\n",
      "    >>> pd.to_numeric(s, downcast='float')\n",
      "    0    1.0\n",
      "    1    2.0\n",
      "    2   -3.0\n",
      "    dtype: float32\n",
      "    >>> pd.to_numeric(s, downcast='signed')\n",
      "    0    1\n",
      "    1    2\n",
      "    2   -3\n",
      "    dtype: int8\n",
      "    >>> s = pd.Series(['apple', '1.0', '2', -3])\n",
      "    >>> pd.to_numeric(s, errors='ignore')\n",
      "    0    apple\n",
      "    1      1.0\n",
      "    2        2\n",
      "    3       -3\n",
      "    dtype: object\n",
      "    >>> pd.to_numeric(s, errors='coerce')\n",
      "    0    NaN\n",
      "    1    1.0\n",
      "    2    2.0\n",
      "    3   -3.0\n",
      "    dtype: float64\n",
      "    \n",
      "    Downcasting of nullable integer and floating dtypes is supported:\n",
      "    \n",
      "    >>> s = pd.Series([1, 2, 3], dtype=\"Int64\")\n",
      "    >>> pd.to_numeric(s, downcast=\"integer\")\n",
      "    0    1\n",
      "    1    2\n",
      "    2    3\n",
      "    dtype: Int8\n",
      "    >>> s = pd.Series([1.0, 2.1, 3.0], dtype=\"Float64\")\n",
      "    >>> pd.to_numeric(s, downcast=\"float\")\n",
      "    0    1.0\n",
      "    1    2.1\n",
      "    2    3.0\n",
      "    dtype: Float32\n",
      "\n"
     ]
    }
   ],
   "source": [
    "#Help on function\n",
    "help(pd.to_numeric)\n",
    "#default values, in this case errors='raise' "
   ]
  },
  {
   "cell_type": "markdown",
   "id": "1657606e",
   "metadata": {},
   "source": [
    "# Aggregating data"
   ]
  },
  {
   "cell_type": "code",
   "execution_count": 77,
   "id": "d3a9304f",
   "metadata": {},
   "outputs": [
    {
     "data": {
      "text/plain": [
       "12    65\n",
       "16    33\n",
       "14    22\n",
       "13    22\n",
       "15    15\n",
       "18    11\n",
       "20     5\n",
       "19     2\n",
       "17     2\n",
       "8      2\n",
       "10     2\n",
       "9      1\n",
       "11     1\n",
       "Name: EDUCH, dtype: int64"
      ]
     },
     "execution_count": 77,
     "metadata": {},
     "output_type": "execute_result"
    }
   ],
   "source": [
    "#Daata types:Series, data frame (consist on series) or panel\n",
    "\n",
    "df[\"EDUCH\"].value_counts()\n",
    "\n",
    "#2 observations for twin with 8 years of schooling"
   ]
  },
  {
   "cell_type": "code",
   "execution_count": 78,
   "id": "aadd23ab",
   "metadata": {},
   "outputs": [
    {
     "data": {
      "text/plain": [
       "8      2\n",
       "9      1\n",
       "10     2\n",
       "11     1\n",
       "12    65\n",
       "13    22\n",
       "14    22\n",
       "15    15\n",
       "16    33\n",
       "17     2\n",
       "18    11\n",
       "19     2\n",
       "20     5\n",
       "Name: EDUCH, dtype: int64"
      ]
     },
     "execution_count": 78,
     "metadata": {},
     "output_type": "execute_result"
    }
   ],
   "source": [
    "#for sorting\n",
    "df[\"EDUCH\"].value_counts().sort_index()"
   ]
  },
  {
   "cell_type": "code",
   "execution_count": 80,
   "id": "9fe23d0b",
   "metadata": {},
   "outputs": [
    {
     "data": {
      "text/html": [
       "<div>\n",
       "<style scoped>\n",
       "    .dataframe tbody tr th:only-of-type {\n",
       "        vertical-align: middle;\n",
       "    }\n",
       "\n",
       "    .dataframe tbody tr th {\n",
       "        vertical-align: top;\n",
       "    }\n",
       "\n",
       "    .dataframe thead th {\n",
       "        text-align: right;\n",
       "    }\n",
       "</style>\n",
       "<table border=\"1\" class=\"dataframe\">\n",
       "  <thead>\n",
       "    <tr style=\"text-align: right;\">\n",
       "      <th>WHITEL</th>\n",
       "      <th>0</th>\n",
       "      <th>1</th>\n",
       "    </tr>\n",
       "    <tr>\n",
       "      <th>WHITEH</th>\n",
       "      <th></th>\n",
       "      <th></th>\n",
       "    </tr>\n",
       "  </thead>\n",
       "  <tbody>\n",
       "    <tr>\n",
       "      <th>0</th>\n",
       "      <td>10</td>\n",
       "      <td>2</td>\n",
       "    </tr>\n",
       "    <tr>\n",
       "      <th>1</th>\n",
       "      <td>1</td>\n",
       "      <td>170</td>\n",
       "    </tr>\n",
       "  </tbody>\n",
       "</table>\n",
       "</div>"
      ],
      "text/plain": [
       "WHITEL   0    1\n",
       "WHITEH         \n",
       "0       10    2\n",
       "1        1  170"
      ]
     },
     "execution_count": 80,
     "metadata": {},
     "output_type": "execute_result"
    }
   ],
   "source": [
    "##Cross tabulation\n",
    "#takes two series of same dimension (length)\n",
    "pd.crosstab(df[\"WHITEH\"],df[\"WHITEL\"])\n",
    "#most twins are both white, only 3 of different skin color\n",
    "#can be saved for LaTeX"
   ]
  },
  {
   "cell_type": "markdown",
   "id": "bd1c15b9",
   "metadata": {},
   "source": [
    "#Manipulation"
   ]
  },
  {
   "cell_type": "code",
   "execution_count": 81,
   "id": "a8156a7c",
   "metadata": {},
   "outputs": [],
   "source": [
    "#drop columns or rows\n",
    "#df=df.drop(index[1,2,16]) #names of the rows\n",
    "#df= df.drop('AGESQ', axis=1)\n",
    "\n",
    "#ADD column:\n",
    "#df[\"AGESQ\"] = df[\"AGE\"]**2 #(1) Give one value\n",
    "\n"
   ]
  },
  {
   "cell_type": "code",
   "execution_count": 82,
   "id": "4fa93be4",
   "metadata": {},
   "outputs": [],
   "source": [
    "#Sort\n",
    "#df =df.sort_values(by='HRWAGEH') #sort by column\n",
    "#df = df[sort(df-columns)] #re order columns alphabetically. All not specified columns are dropped\n"
   ]
  },
  {
   "cell_type": "code",
   "execution_count": 84,
   "id": "7a11fa26",
   "metadata": {},
   "outputs": [],
   "source": [
    "#Combine\n",
    "df[\"combined\"]=df[\"WHITEH\"]+df[\"WHITEL\"]"
   ]
  },
  {
   "cell_type": "code",
   "execution_count": 86,
   "id": "73446007",
   "metadata": {},
   "outputs": [
    {
     "data": {
      "text/plain": [
       "0      2.420368\n",
       "1      0.000000\n",
       "2      2.890372\n",
       "3      2.803360\n",
       "4      2.263366\n",
       "         ...   \n",
       "178    3.025594\n",
       "179    0.000000\n",
       "180    1.704748\n",
       "181    2.014903\n",
       "182    2.197225\n",
       "Name: LHRWAGEH, Length: 183, dtype: float64"
      ]
     },
     "execution_count": 86,
     "metadata": {},
     "output_type": "execute_result"
    }
   ],
   "source": [
    "#Missing data\n",
    "df[\"LHRWAGEH\"].fillna(0) #fill with zeros where there has been NaN before"
   ]
  },
  {
   "cell_type": "code",
   "execution_count": 89,
   "id": "9efb71e6",
   "metadata": {},
   "outputs": [
    {
     "data": {
      "text/plain": [
       "(183, 17)"
      ]
     },
     "execution_count": 89,
     "metadata": {},
     "output_type": "execute_result"
    }
   ],
   "source": [
    "#Drop observations containing missings\n",
    "df.dropna(subset=[\"DLHRWAGE\"])\n",
    "df.shape"
   ]
  },
  {
   "cell_type": "markdown",
   "id": "a140f621",
   "metadata": {},
   "source": [
    "# Grouping | Summary statistics"
   ]
  },
  {
   "cell_type": "code",
   "execution_count": 92,
   "id": "6228b998",
   "metadata": {},
   "outputs": [
    {
     "data": {
      "text/plain": [
       "pandas.core.groupby.generic.DataFrameGroupBy"
      ]
     },
     "execution_count": 92,
     "metadata": {},
     "output_type": "execute_result"
    }
   ],
   "source": [
    "#Different dataframes for different years of schooling\n",
    "#List of columns from which I want to group\n",
    "grouped = df.groupby([\"MALEH\"])\n",
    "type(grouped)"
   ]
  },
  {
   "cell_type": "code",
   "execution_count": 96,
   "id": "30fe42af",
   "metadata": {},
   "outputs": [
    {
     "data": {
      "text/plain": [
       "MALEH\n",
       "0    37.991081\n",
       "1    39.364721\n",
       "Name: AGE, dtype: float64"
      ]
     },
     "execution_count": 96,
     "metadata": {},
     "output_type": "execute_result"
    }
   ],
   "source": [
    "grouped[\"AGE\"].mean() #Age means of Male "
   ]
  },
  {
   "cell_type": "code",
   "execution_count": 98,
   "id": "46963067",
   "metadata": {},
   "outputs": [
    {
     "data": {
      "text/html": [
       "<div>\n",
       "<style scoped>\n",
       "    .dataframe tbody tr th:only-of-type {\n",
       "        vertical-align: middle;\n",
       "    }\n",
       "\n",
       "    .dataframe tbody tr th {\n",
       "        vertical-align: top;\n",
       "    }\n",
       "\n",
       "    .dataframe thead th {\n",
       "        text-align: right;\n",
       "    }\n",
       "</style>\n",
       "<table border=\"1\" class=\"dataframe\">\n",
       "  <thead>\n",
       "    <tr style=\"text-align: right;\">\n",
       "      <th></th>\n",
       "      <th>mean</th>\n",
       "      <th>std</th>\n",
       "    </tr>\n",
       "    <tr>\n",
       "      <th>MALEH</th>\n",
       "      <th></th>\n",
       "      <th></th>\n",
       "    </tr>\n",
       "  </thead>\n",
       "  <tbody>\n",
       "    <tr>\n",
       "      <th>0</th>\n",
       "      <td>37.991081</td>\n",
       "      <td>12.467376</td>\n",
       "    </tr>\n",
       "    <tr>\n",
       "      <th>1</th>\n",
       "      <td>39.364721</td>\n",
       "      <td>13.853903</td>\n",
       "    </tr>\n",
       "  </tbody>\n",
       "</table>\n",
       "</div>"
      ],
      "text/plain": [
       "            mean        std\n",
       "MALEH                      \n",
       "0      37.991081  12.467376\n",
       "1      39.364721  13.853903"
      ]
     },
     "execution_count": 98,
     "metadata": {},
     "output_type": "execute_result"
    }
   ],
   "source": [
    "grouped[\"AGE\"].agg([\"mean\",\"std\"])\n",
    "#Values by group.\n"
   ]
  },
  {
   "cell_type": "code",
   "execution_count": 101,
   "id": "8ec8da05",
   "metadata": {},
   "outputs": [
    {
     "data": {
      "text/html": [
       "<div>\n",
       "<style scoped>\n",
       "    .dataframe tbody tr th:only-of-type {\n",
       "        vertical-align: middle;\n",
       "    }\n",
       "\n",
       "    .dataframe tbody tr th {\n",
       "        vertical-align: top;\n",
       "    }\n",
       "\n",
       "    .dataframe thead tr th {\n",
       "        text-align: left;\n",
       "    }\n",
       "\n",
       "    .dataframe thead tr:last-of-type th {\n",
       "        text-align: right;\n",
       "    }\n",
       "</style>\n",
       "<table border=\"1\" class=\"dataframe\">\n",
       "  <thead>\n",
       "    <tr>\n",
       "      <th></th>\n",
       "      <th colspan=\"2\" halign=\"left\">AGE</th>\n",
       "      <th colspan=\"2\" halign=\"left\">EDUCH</th>\n",
       "    </tr>\n",
       "    <tr>\n",
       "      <th></th>\n",
       "      <th>mean</th>\n",
       "      <th>std</th>\n",
       "      <th>mean</th>\n",
       "      <th>std</th>\n",
       "    </tr>\n",
       "    <tr>\n",
       "      <th>MALEH</th>\n",
       "      <th></th>\n",
       "      <th></th>\n",
       "      <th></th>\n",
       "      <th></th>\n",
       "    </tr>\n",
       "  </thead>\n",
       "  <tbody>\n",
       "    <tr>\n",
       "      <th>0</th>\n",
       "      <td>37.991081</td>\n",
       "      <td>12.467376</td>\n",
       "      <td>13.848485</td>\n",
       "      <td>2.344614</td>\n",
       "    </tr>\n",
       "    <tr>\n",
       "      <th>1</th>\n",
       "      <td>39.364721</td>\n",
       "      <td>13.853903</td>\n",
       "      <td>14.071429</td>\n",
       "      <td>2.327343</td>\n",
       "    </tr>\n",
       "  </tbody>\n",
       "</table>\n",
       "</div>"
      ],
      "text/plain": [
       "             AGE                 EDUCH          \n",
       "            mean        std       mean       std\n",
       "MALEH                                           \n",
       "0      37.991081  12.467376  13.848485  2.344614\n",
       "1      39.364721  13.853903  14.071429  2.327343"
      ]
     },
     "execution_count": 101,
     "metadata": {},
     "output_type": "execute_result"
    }
   ],
   "source": [
    "#One could give multiple columns too\n",
    "grouped[[\"AGE\",\"EDUCH\"]].agg([\"mean\",\"std\"])"
   ]
  },
  {
   "cell_type": "markdown",
   "id": "df2bcf4a",
   "metadata": {},
   "source": [
    "# Wide vs Long"
   ]
  },
  {
   "cell_type": "code",
   "execution_count": 103,
   "id": "1596a7ac",
   "metadata": {},
   "outputs": [
    {
     "data": {
      "text/html": [
       "<div>\n",
       "<style scoped>\n",
       "    .dataframe tbody tr th:only-of-type {\n",
       "        vertical-align: middle;\n",
       "    }\n",
       "\n",
       "    .dataframe tbody tr th {\n",
       "        vertical-align: top;\n",
       "    }\n",
       "\n",
       "    .dataframe thead th {\n",
       "        text-align: right;\n",
       "    }\n",
       "</style>\n",
       "<table border=\"1\" class=\"dataframe\">\n",
       "  <thead>\n",
       "    <tr style=\"text-align: right;\">\n",
       "      <th></th>\n",
       "      <th>DLHRWAGE</th>\n",
       "      <th>DEDUC1</th>\n",
       "      <th>AGE</th>\n",
       "      <th>AGESQ</th>\n",
       "      <th>LHRWAGEH</th>\n",
       "      <th>WHITEH</th>\n",
       "      <th>MALEH</th>\n",
       "      <th>EDUCH</th>\n",
       "      <th>LHRWAGEL</th>\n",
       "      <th>WHITEL</th>\n",
       "      <th>MALEL</th>\n",
       "      <th>EDUCL</th>\n",
       "      <th>DEDUC2</th>\n",
       "      <th>DTEN</th>\n",
       "      <th>DMARRIED</th>\n",
       "      <th>DUNCOV</th>\n",
       "      <th>combined</th>\n",
       "    </tr>\n",
       "  </thead>\n",
       "  <tbody>\n",
       "    <tr>\n",
       "      <th>0</th>\n",
       "      <td>0.259347</td>\n",
       "      <td>0</td>\n",
       "      <td>20.000000</td>\n",
       "      <td>1105.642156</td>\n",
       "      <td>2.420368</td>\n",
       "      <td>1</td>\n",
       "      <td>0</td>\n",
       "      <td>16</td>\n",
       "      <td>2.161022</td>\n",
       "      <td>1</td>\n",
       "      <td>0</td>\n",
       "      <td>16</td>\n",
       "      <td>0</td>\n",
       "      <td>1.333</td>\n",
       "      <td>0</td>\n",
       "      <td>0.0</td>\n",
       "      <td>2</td>\n",
       "    </tr>\n",
       "    <tr>\n",
       "      <th>1</th>\n",
       "      <td>NaN</td>\n",
       "      <td>-1</td>\n",
       "      <td>54.053388</td>\n",
       "      <td>2921.768764</td>\n",
       "      <td>NaN</td>\n",
       "      <td>1</td>\n",
       "      <td>0</td>\n",
       "      <td>9</td>\n",
       "      <td>2.060514</td>\n",
       "      <td>1</td>\n",
       "      <td>0</td>\n",
       "      <td>10</td>\n",
       "      <td>1</td>\n",
       "      <td>8.000</td>\n",
       "      <td>1</td>\n",
       "      <td>0.0</td>\n",
       "      <td>2</td>\n",
       "    </tr>\n",
       "    <tr>\n",
       "      <th>2</th>\n",
       "      <td>0.721318</td>\n",
       "      <td>7</td>\n",
       "      <td>43.570157</td>\n",
       "      <td>1898.358618</td>\n",
       "      <td>2.890372</td>\n",
       "      <td>1</td>\n",
       "      <td>0</td>\n",
       "      <td>19</td>\n",
       "      <td>2.169054</td>\n",
       "      <td>1</td>\n",
       "      <td>0</td>\n",
       "      <td>12</td>\n",
       "      <td>4</td>\n",
       "      <td>3.000</td>\n",
       "      <td>-1</td>\n",
       "      <td>0.0</td>\n",
       "      <td>2</td>\n",
       "    </tr>\n",
       "    <tr>\n",
       "      <th>3</th>\n",
       "      <td>0.011582</td>\n",
       "      <td>0</td>\n",
       "      <td>30.967830</td>\n",
       "      <td>959.006511</td>\n",
       "      <td>2.803360</td>\n",
       "      <td>1</td>\n",
       "      <td>1</td>\n",
       "      <td>12</td>\n",
       "      <td>2.791778</td>\n",
       "      <td>1</td>\n",
       "      <td>1</td>\n",
       "      <td>12</td>\n",
       "      <td>0</td>\n",
       "      <td>-2.000</td>\n",
       "      <td>0</td>\n",
       "      <td>1.0</td>\n",
       "      <td>2</td>\n",
       "    </tr>\n",
       "    <tr>\n",
       "      <th>4</th>\n",
       "      <td>-0.560985</td>\n",
       "      <td>0</td>\n",
       "      <td>34.633812</td>\n",
       "      <td>1199.500965</td>\n",
       "      <td>2.263366</td>\n",
       "      <td>1</td>\n",
       "      <td>1</td>\n",
       "      <td>14</td>\n",
       "      <td>2.824351</td>\n",
       "      <td>1</td>\n",
       "      <td>1</td>\n",
       "      <td>14</td>\n",
       "      <td>1</td>\n",
       "      <td>2.917</td>\n",
       "      <td>0</td>\n",
       "      <td>-1.0</td>\n",
       "      <td>2</td>\n",
       "    </tr>\n",
       "  </tbody>\n",
       "</table>\n",
       "</div>"
      ],
      "text/plain": [
       "   DLHRWAGE  DEDUC1        AGE        AGESQ  LHRWAGEH  WHITEH  MALEH  EDUCH  \\\n",
       "0  0.259347       0  20.000000  1105.642156  2.420368       1      0     16   \n",
       "1       NaN      -1  54.053388  2921.768764       NaN       1      0      9   \n",
       "2  0.721318       7  43.570157  1898.358618  2.890372       1      0     19   \n",
       "3  0.011582       0  30.967830   959.006511  2.803360       1      1     12   \n",
       "4 -0.560985       0  34.633812  1199.500965  2.263366       1      1     14   \n",
       "\n",
       "   LHRWAGEL  WHITEL  MALEL  EDUCL  DEDUC2   DTEN  DMARRIED  DUNCOV  combined  \n",
       "0  2.161022       1      0     16       0  1.333         0     0.0         2  \n",
       "1  2.060514       1      0     10       1  8.000         1     0.0         2  \n",
       "2  2.169054       1      0     12       4  3.000        -1     0.0         2  \n",
       "3  2.791778       1      1     12       0 -2.000         0     1.0         2  \n",
       "4  2.824351       1      1     14       1  2.917         0    -1.0         2  "
      ]
     },
     "execution_count": 103,
     "metadata": {},
     "output_type": "execute_result"
    }
   ],
   "source": [
    "#For regressions and graphs long is more convenient\n",
    "#PAndas use wide better\n",
    "# A wide format contains values that do not repeat in the first column. A long format contains values that do repeat in the first column. \n",
    "# Long: tons of rows\n",
    "# Wide: tons of columns\n",
    "df.head()\n",
    "\n",
    "#tidy long= only one column\n"
   ]
  },
  {
   "cell_type": "code",
   "execution_count": 104,
   "id": "bd4281f2",
   "metadata": {},
   "outputs": [],
   "source": [
    "#from wide to long: melt: 4 importan variabes (id_vars, value_vars, value_name[column])\n",
    "df[\"id\"] = df.index"
   ]
  },
  {
   "cell_type": "code",
   "execution_count": 110,
   "id": "c4523b5c",
   "metadata": {},
   "outputs": [
    {
     "data": {
      "text/html": [
       "<div>\n",
       "<style scoped>\n",
       "    .dataframe tbody tr th:only-of-type {\n",
       "        vertical-align: middle;\n",
       "    }\n",
       "\n",
       "    .dataframe tbody tr th {\n",
       "        vertical-align: top;\n",
       "    }\n",
       "\n",
       "    .dataframe thead th {\n",
       "        text-align: right;\n",
       "    }\n",
       "</style>\n",
       "<table border=\"1\" class=\"dataframe\">\n",
       "  <thead>\n",
       "    <tr style=\"text-align: right;\">\n",
       "      <th></th>\n",
       "      <th>id</th>\n",
       "      <th>WHITEH</th>\n",
       "      <th>MALEH</th>\n",
       "      <th>EDUCH</th>\n",
       "      <th>WHITEL</th>\n",
       "      <th>MALEL</th>\n",
       "      <th>EDUCL</th>\n",
       "      <th>variable</th>\n",
       "      <th>value</th>\n",
       "    </tr>\n",
       "  </thead>\n",
       "  <tbody>\n",
       "    <tr>\n",
       "      <th>0</th>\n",
       "      <td>0</td>\n",
       "      <td>1</td>\n",
       "      <td>0</td>\n",
       "      <td>16</td>\n",
       "      <td>1</td>\n",
       "      <td>0</td>\n",
       "      <td>16</td>\n",
       "      <td>LHRWAGEL</td>\n",
       "      <td>2.161022</td>\n",
       "    </tr>\n",
       "    <tr>\n",
       "      <th>1</th>\n",
       "      <td>1</td>\n",
       "      <td>1</td>\n",
       "      <td>0</td>\n",
       "      <td>9</td>\n",
       "      <td>1</td>\n",
       "      <td>0</td>\n",
       "      <td>10</td>\n",
       "      <td>LHRWAGEL</td>\n",
       "      <td>2.060514</td>\n",
       "    </tr>\n",
       "    <tr>\n",
       "      <th>2</th>\n",
       "      <td>2</td>\n",
       "      <td>1</td>\n",
       "      <td>0</td>\n",
       "      <td>19</td>\n",
       "      <td>1</td>\n",
       "      <td>0</td>\n",
       "      <td>12</td>\n",
       "      <td>LHRWAGEL</td>\n",
       "      <td>2.169054</td>\n",
       "    </tr>\n",
       "    <tr>\n",
       "      <th>3</th>\n",
       "      <td>3</td>\n",
       "      <td>1</td>\n",
       "      <td>1</td>\n",
       "      <td>12</td>\n",
       "      <td>1</td>\n",
       "      <td>1</td>\n",
       "      <td>12</td>\n",
       "      <td>LHRWAGEL</td>\n",
       "      <td>2.791778</td>\n",
       "    </tr>\n",
       "    <tr>\n",
       "      <th>4</th>\n",
       "      <td>4</td>\n",
       "      <td>1</td>\n",
       "      <td>1</td>\n",
       "      <td>14</td>\n",
       "      <td>1</td>\n",
       "      <td>1</td>\n",
       "      <td>14</td>\n",
       "      <td>LHRWAGEL</td>\n",
       "      <td>2.824351</td>\n",
       "    </tr>\n",
       "  </tbody>\n",
       "</table>\n",
       "</div>"
      ],
      "text/plain": [
       "   id  WHITEH  MALEH  EDUCH  WHITEL  MALEL  EDUCL  variable     value\n",
       "0   0       1      0     16       1      0     16  LHRWAGEL  2.161022\n",
       "1   1       1      0      9       1      0     10  LHRWAGEL  2.060514\n",
       "2   2       1      0     19       1      0     12  LHRWAGEL  2.169054\n",
       "3   3       1      1     12       1      1     12  LHRWAGEL  2.791778\n",
       "4   4       1      1     14       1      1     14  LHRWAGEL  2.824351"
      ]
     },
     "execution_count": 110,
     "metadata": {},
     "output_type": "execute_result"
    }
   ],
   "source": [
    "id_vars=[\"id\",\"WHITEH\",\"MALEH\",\"EDUCH\",\"WHITEL\",\"MALEL\",\"EDUCL\"]\n",
    "\n",
    "value_vars = [\"LHRWAGEL\", \"LHRWAGEH\"]\n",
    "melted = df.melt(id_vars=id_vars, value_vars=value_vars).dropna()\n",
    "melted.head()\n",
    "#the non specified columns are getting used in the column \"variable\""
   ]
  },
  {
   "cell_type": "code",
   "execution_count": 116,
   "id": "8701c22b",
   "metadata": {},
   "outputs": [
    {
     "data": {
      "text/plain": [
       "<seaborn.axisgrid.FacetGrid at 0x2452b6e6410>"
      ]
     },
     "execution_count": 116,
     "metadata": {},
     "output_type": "execute_result"
    }
   ],
   "source": [
    "import seaborn as sns\n",
    "\n",
    "sns.relplot(data=melted, x=\"EDUCH\",y=\"value\", col=\"variable\", row=\"MALEH\")\n",
    "#For each possible value in \"variable\" gets a different plots.\n",
    "#now with only 2 diffferent values.\n",
    "#Education of age twin in relation to income, wheter its male or not male"
   ]
  },
  {
   "cell_type": "code",
   "execution_count": 123,
   "id": "bd8c4c97",
   "metadata": {},
   "outputs": [],
   "source": [
    "#Long to wide? --> Pivot\n",
    "pivoted=melted.pivot(index=id_vars, columns=\"variable\", values=\"value\")\n"
   ]
  },
  {
   "cell_type": "code",
   "execution_count": 124,
   "id": "6af87c1d",
   "metadata": {},
   "outputs": [
    {
     "data": {
      "text/html": [
       "<div>\n",
       "<style scoped>\n",
       "    .dataframe tbody tr th:only-of-type {\n",
       "        vertical-align: middle;\n",
       "    }\n",
       "\n",
       "    .dataframe tbody tr th {\n",
       "        vertical-align: top;\n",
       "    }\n",
       "\n",
       "    .dataframe thead th {\n",
       "        text-align: right;\n",
       "    }\n",
       "</style>\n",
       "<table border=\"1\" class=\"dataframe\">\n",
       "  <thead>\n",
       "    <tr style=\"text-align: right;\">\n",
       "      <th>variable</th>\n",
       "      <th>id</th>\n",
       "      <th>WHITEH</th>\n",
       "      <th>MALEH</th>\n",
       "      <th>EDUCH</th>\n",
       "      <th>WHITEL</th>\n",
       "      <th>MALEL</th>\n",
       "      <th>EDUCL</th>\n",
       "      <th>LHRWAGEH</th>\n",
       "      <th>LHRWAGEL</th>\n",
       "    </tr>\n",
       "  </thead>\n",
       "  <tbody>\n",
       "    <tr>\n",
       "      <th>0</th>\n",
       "      <td>0</td>\n",
       "      <td>1</td>\n",
       "      <td>0</td>\n",
       "      <td>16</td>\n",
       "      <td>1</td>\n",
       "      <td>0</td>\n",
       "      <td>16</td>\n",
       "      <td>2.420368</td>\n",
       "      <td>2.161022</td>\n",
       "    </tr>\n",
       "    <tr>\n",
       "      <th>1</th>\n",
       "      <td>1</td>\n",
       "      <td>1</td>\n",
       "      <td>0</td>\n",
       "      <td>9</td>\n",
       "      <td>1</td>\n",
       "      <td>0</td>\n",
       "      <td>10</td>\n",
       "      <td>NaN</td>\n",
       "      <td>2.060514</td>\n",
       "    </tr>\n",
       "    <tr>\n",
       "      <th>2</th>\n",
       "      <td>2</td>\n",
       "      <td>1</td>\n",
       "      <td>0</td>\n",
       "      <td>19</td>\n",
       "      <td>1</td>\n",
       "      <td>0</td>\n",
       "      <td>12</td>\n",
       "      <td>2.890372</td>\n",
       "      <td>2.169054</td>\n",
       "    </tr>\n",
       "    <tr>\n",
       "      <th>3</th>\n",
       "      <td>3</td>\n",
       "      <td>1</td>\n",
       "      <td>1</td>\n",
       "      <td>12</td>\n",
       "      <td>1</td>\n",
       "      <td>1</td>\n",
       "      <td>12</td>\n",
       "      <td>2.803360</td>\n",
       "      <td>2.791778</td>\n",
       "    </tr>\n",
       "    <tr>\n",
       "      <th>4</th>\n",
       "      <td>4</td>\n",
       "      <td>1</td>\n",
       "      <td>1</td>\n",
       "      <td>14</td>\n",
       "      <td>1</td>\n",
       "      <td>1</td>\n",
       "      <td>14</td>\n",
       "      <td>2.263366</td>\n",
       "      <td>2.824351</td>\n",
       "    </tr>\n",
       "    <tr>\n",
       "      <th>...</th>\n",
       "      <td>...</td>\n",
       "      <td>...</td>\n",
       "      <td>...</td>\n",
       "      <td>...</td>\n",
       "      <td>...</td>\n",
       "      <td>...</td>\n",
       "      <td>...</td>\n",
       "      <td>...</td>\n",
       "      <td>...</td>\n",
       "    </tr>\n",
       "    <tr>\n",
       "      <th>169</th>\n",
       "      <td>178</td>\n",
       "      <td>1</td>\n",
       "      <td>0</td>\n",
       "      <td>12</td>\n",
       "      <td>1</td>\n",
       "      <td>0</td>\n",
       "      <td>12</td>\n",
       "      <td>3.025594</td>\n",
       "      <td>2.915690</td>\n",
       "    </tr>\n",
       "    <tr>\n",
       "      <th>170</th>\n",
       "      <td>179</td>\n",
       "      <td>1</td>\n",
       "      <td>1</td>\n",
       "      <td>16</td>\n",
       "      <td>1</td>\n",
       "      <td>1</td>\n",
       "      <td>16</td>\n",
       "      <td>NaN</td>\n",
       "      <td>2.978077</td>\n",
       "    </tr>\n",
       "    <tr>\n",
       "      <th>171</th>\n",
       "      <td>180</td>\n",
       "      <td>1</td>\n",
       "      <td>0</td>\n",
       "      <td>14</td>\n",
       "      <td>1</td>\n",
       "      <td>0</td>\n",
       "      <td>12</td>\n",
       "      <td>1.704748</td>\n",
       "      <td>0.854415</td>\n",
       "    </tr>\n",
       "    <tr>\n",
       "      <th>172</th>\n",
       "      <td>181</td>\n",
       "      <td>1</td>\n",
       "      <td>0</td>\n",
       "      <td>14</td>\n",
       "      <td>1</td>\n",
       "      <td>0</td>\n",
       "      <td>16</td>\n",
       "      <td>2.014903</td>\n",
       "      <td>2.744418</td>\n",
       "    </tr>\n",
       "    <tr>\n",
       "      <th>173</th>\n",
       "      <td>182</td>\n",
       "      <td>1</td>\n",
       "      <td>0</td>\n",
       "      <td>16</td>\n",
       "      <td>1</td>\n",
       "      <td>0</td>\n",
       "      <td>16</td>\n",
       "      <td>2.197225</td>\n",
       "      <td>2.698000</td>\n",
       "    </tr>\n",
       "  </tbody>\n",
       "</table>\n",
       "<p>174 rows × 9 columns</p>\n",
       "</div>"
      ],
      "text/plain": [
       "variable   id  WHITEH  MALEH  EDUCH  WHITEL  MALEL  EDUCL  LHRWAGEH  LHRWAGEL\n",
       "0           0       1      0     16       1      0     16  2.420368  2.161022\n",
       "1           1       1      0      9       1      0     10       NaN  2.060514\n",
       "2           2       1      0     19       1      0     12  2.890372  2.169054\n",
       "3           3       1      1     12       1      1     12  2.803360  2.791778\n",
       "4           4       1      1     14       1      1     14  2.263366  2.824351\n",
       "..        ...     ...    ...    ...     ...    ...    ...       ...       ...\n",
       "169       178       1      0     12       1      0     12  3.025594  2.915690\n",
       "170       179       1      1     16       1      1     16       NaN  2.978077\n",
       "171       180       1      0     14       1      0     12  1.704748  0.854415\n",
       "172       181       1      0     14       1      0     16  2.014903  2.744418\n",
       "173       182       1      0     16       1      0     16  2.197225  2.698000\n",
       "\n",
       "[174 rows x 9 columns]"
      ]
     },
     "execution_count": 124,
     "metadata": {},
     "output_type": "execute_result"
    }
   ],
   "source": [
    "#reset idex\n",
    "pivoted.reset_index()\n",
    "#fewer columns becuase first melt used less columns\n"
   ]
  }
 ],
 "metadata": {
  "kernelspec": {
   "display_name": "Python 3 (ipykernel)",
   "language": "python",
   "name": "python3"
  },
  "language_info": {
   "codemirror_mode": {
    "name": "ipython",
    "version": 3
   },
   "file_extension": ".py",
   "mimetype": "text/x-python",
   "name": "python",
   "nbconvert_exporter": "python",
   "pygments_lexer": "ipython3",
   "version": "3.10.6"
  }
 },
 "nbformat": 4,
 "nbformat_minor": 5
}
